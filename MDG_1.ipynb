{
 "cells": [
  {
   "cell_type": "markdown",
   "metadata": {},
   "source": [
    "\n",
    "### Polio Immunizations in South and Southeast Asia \n",
    "\n",
    "By Bryan Novy, June 17, 2016 dataframes_broker.wordpress.com "
   ]
  },
  {
   "cell_type": "markdown",
   "metadata": {},
   "source": [
    "At the dawn of the new millenium, the United Nations issued a set of  ambitious development projects in order to initiate more rapid and uniform development throughout the world. The Millenium Development Goals (MDGs) were to commence in the year 2000, and be acheived by 2015. That deadline has since expired, and we can analyize the projects in retrospect to see what they have achieved.\n",
    "\n",
    "Item 6 of the MDGs is to \"combat AIDS, malaria and other diseases\" and Item 4 is to \"reduce child mortality.\"\n",
    "\n",
    "In the first entry of this series, we will look at the progress of child Polio immunizations in South and Southeast Asia.\n",
    "\n",
    "Polio is a virus that attacks the nervous system. It can cause paralysis or death and mostly afflicts children. There is no cure. The only effective means of prevention is child vaccination. \n",
    "\n",
    "Most people can carry the virus without signs of illness, but can still spread it to other people in the mean time. Due to this, the World Health Organization considers even one case of Polio to be a sign of an epidemic.\n",
    "\n",
    "Polio can paralyze and atrophy the legs, and result in more serious complications up to 40 years after infecion. \n",
    "\n",
    "It is for these reasons that the UN and WHO have sought to eradicate Polio.  \n",
    "\n",
    "This analysis will look at three key questions:\n",
    "\n",
    "What are the total, maximum, minimum, median and average numbers of Polio immunizations for children in South Asia in 2000? In 2014? Prior to the MDGs?\n",
    "Which countries have the highest and the lowest Polio immunization coverage for children?\n",
    "How does immunization in 2000 compare with immunization in 2014? Or prior to the MDGs?"
   ]
  },
  {
   "cell_type": "markdown",
   "metadata": {},
   "source": [
    "### The Data\n",
    "\n",
    "The data was taken from the World Health Organization's Global Health Observatory data repository, Polio ((Pol3), Data by country).\n",
    "\n",
    "It consists of Country and Child Vaccination data from 35 years, between 1980 and 2014. \n",
    "\n",
    "To access this data: click the URL, then the Download tab. Select the 'quick downloads multipurpose table in CSV format' option to download the world Polio immunization data set.\n",
    "\n",
    "Global Health Observatory data repository URL: http://apps.who.int/gho/data/node.main.A831?lang=en\n"
   ]
  },
  {
   "cell_type": "markdown",
   "metadata": {},
   "source": [
    "### Processing the Data\n",
    "\n",
    "For this project, the world Polio data will be reorganized, simplified and renamed. First, it will be broken down into two time periods, the MDG era and the pre MDG era. Then we will pull the data from the South and Southeast Asian regions and they will be put into one stand alone subset. The two eras will be compared, then they will be combined to get an understanding of how well polio immunization progressed over the two time periods. \n",
    "\n",
    "For a full break down of how this data was processed with Python, visit my *Github account*."
   ]
  },
  {
   "cell_type": "code",
   "execution_count": 44,
   "metadata": {
    "collapsed": false,
    "scrolled": false
   },
   "outputs": [
    {
     "data": {
      "text/html": [
       "<div>\n",
       "<table border=\"1\" class=\"dataframe\">\n",
       "  <thead>\n",
       "    <tr style=\"text-align: right;\">\n",
       "      <th></th>\n",
       "      <th>Unnamed: 0</th>\n",
       "      <th>Polio (Pol3) immunization coverage among 1-year-olds (%)</th>\n",
       "      <th>Polio (Pol3) immunization coverage among 1-year-olds (%).1</th>\n",
       "      <th>Polio (Pol3) immunization coverage among 1-year-olds (%).2</th>\n",
       "      <th>Polio (Pol3) immunization coverage among 1-year-olds (%).3</th>\n",
       "      <th>Polio (Pol3) immunization coverage among 1-year-olds (%).4</th>\n",
       "      <th>Polio (Pol3) immunization coverage among 1-year-olds (%).5</th>\n",
       "      <th>Polio (Pol3) immunization coverage among 1-year-olds (%).6</th>\n",
       "      <th>Polio (Pol3) immunization coverage among 1-year-olds (%).7</th>\n",
       "      <th>Polio (Pol3) immunization coverage among 1-year-olds (%).8</th>\n",
       "      <th>...</th>\n",
       "      <th>Polio (Pol3) immunization coverage among 1-year-olds (%).25</th>\n",
       "      <th>Polio (Pol3) immunization coverage among 1-year-olds (%).26</th>\n",
       "      <th>Polio (Pol3) immunization coverage among 1-year-olds (%).27</th>\n",
       "      <th>Polio (Pol3) immunization coverage among 1-year-olds (%).28</th>\n",
       "      <th>Polio (Pol3) immunization coverage among 1-year-olds (%).29</th>\n",
       "      <th>Polio (Pol3) immunization coverage among 1-year-olds (%).30</th>\n",
       "      <th>Polio (Pol3) immunization coverage among 1-year-olds (%).31</th>\n",
       "      <th>Polio (Pol3) immunization coverage among 1-year-olds (%).32</th>\n",
       "      <th>Polio (Pol3) immunization coverage among 1-year-olds (%).33</th>\n",
       "      <th>Polio (Pol3) immunization coverage among 1-year-olds (%).34</th>\n",
       "    </tr>\n",
       "  </thead>\n",
       "  <tbody>\n",
       "    <tr>\n",
       "      <th>0</th>\n",
       "      <td>Country</td>\n",
       "      <td>2014</td>\n",
       "      <td>2013</td>\n",
       "      <td>2012</td>\n",
       "      <td>2011</td>\n",
       "      <td>2010.0</td>\n",
       "      <td>2009.0</td>\n",
       "      <td>2008.0</td>\n",
       "      <td>2007.0</td>\n",
       "      <td>2006.0</td>\n",
       "      <td>...</td>\n",
       "      <td>1989.0</td>\n",
       "      <td>1988.0</td>\n",
       "      <td>1987.0</td>\n",
       "      <td>1986.0</td>\n",
       "      <td>1985.0</td>\n",
       "      <td>1984.0</td>\n",
       "      <td>1983.0</td>\n",
       "      <td>1982.0</td>\n",
       "      <td>1981.0</td>\n",
       "      <td>1980.0</td>\n",
       "    </tr>\n",
       "    <tr>\n",
       "      <th>1</th>\n",
       "      <td>Afghanistan</td>\n",
       "      <td>75</td>\n",
       "      <td>70</td>\n",
       "      <td>67</td>\n",
       "      <td>68</td>\n",
       "      <td>66.0</td>\n",
       "      <td>63.0</td>\n",
       "      <td>64.0</td>\n",
       "      <td>63.0</td>\n",
       "      <td>58.0</td>\n",
       "      <td>...</td>\n",
       "      <td>33.0</td>\n",
       "      <td>35.0</td>\n",
       "      <td>25.0</td>\n",
       "      <td>11.0</td>\n",
       "      <td>15.0</td>\n",
       "      <td>16.0</td>\n",
       "      <td>5.0</td>\n",
       "      <td>5.0</td>\n",
       "      <td>3.0</td>\n",
       "      <td>NaN</td>\n",
       "    </tr>\n",
       "    <tr>\n",
       "      <th>2</th>\n",
       "      <td>Albania</td>\n",
       "      <td>98</td>\n",
       "      <td>99</td>\n",
       "      <td>99</td>\n",
       "      <td>99</td>\n",
       "      <td>99.0</td>\n",
       "      <td>98.0</td>\n",
       "      <td>99.0</td>\n",
       "      <td>99.0</td>\n",
       "      <td>97.0</td>\n",
       "      <td>...</td>\n",
       "      <td>96.0</td>\n",
       "      <td>96.0</td>\n",
       "      <td>94.0</td>\n",
       "      <td>94.0</td>\n",
       "      <td>94.0</td>\n",
       "      <td>92.0</td>\n",
       "      <td>92.0</td>\n",
       "      <td>92.0</td>\n",
       "      <td>92.0</td>\n",
       "      <td>92.0</td>\n",
       "    </tr>\n",
       "    <tr>\n",
       "      <th>3</th>\n",
       "      <td>Algeria</td>\n",
       "      <td>95</td>\n",
       "      <td>95</td>\n",
       "      <td>95</td>\n",
       "      <td>95</td>\n",
       "      <td>95.0</td>\n",
       "      <td>94.0</td>\n",
       "      <td>92.0</td>\n",
       "      <td>95.0</td>\n",
       "      <td>95.0</td>\n",
       "      <td>...</td>\n",
       "      <td>87.0</td>\n",
       "      <td>85.0</td>\n",
       "      <td>79.0</td>\n",
       "      <td>72.0</td>\n",
       "      <td>69.0</td>\n",
       "      <td>30.0</td>\n",
       "      <td>30.0</td>\n",
       "      <td>31.0</td>\n",
       "      <td>31.0</td>\n",
       "      <td>NaN</td>\n",
       "    </tr>\n",
       "    <tr>\n",
       "      <th>4</th>\n",
       "      <td>Andorra</td>\n",
       "      <td>97</td>\n",
       "      <td>96</td>\n",
       "      <td>99</td>\n",
       "      <td>99</td>\n",
       "      <td>99.0</td>\n",
       "      <td>99.0</td>\n",
       "      <td>99.0</td>\n",
       "      <td>96.0</td>\n",
       "      <td>93.0</td>\n",
       "      <td>...</td>\n",
       "      <td>NaN</td>\n",
       "      <td>NaN</td>\n",
       "      <td>NaN</td>\n",
       "      <td>NaN</td>\n",
       "      <td>NaN</td>\n",
       "      <td>NaN</td>\n",
       "      <td>NaN</td>\n",
       "      <td>NaN</td>\n",
       "      <td>NaN</td>\n",
       "      <td>NaN</td>\n",
       "    </tr>\n",
       "  </tbody>\n",
       "</table>\n",
       "<p>5 rows × 36 columns</p>\n",
       "</div>"
      ],
      "text/plain": [
       "    Unnamed: 0  Polio (Pol3) immunization coverage among 1-year-olds (%)  \\\n",
       "0      Country                                               2014          \n",
       "1  Afghanistan                                                 75          \n",
       "2      Albania                                                 98          \n",
       "3      Algeria                                                 95          \n",
       "4      Andorra                                                 97          \n",
       "\n",
       "   Polio (Pol3) immunization coverage among 1-year-olds (%).1  \\\n",
       "0                                               2013            \n",
       "1                                                 70            \n",
       "2                                                 99            \n",
       "3                                                 95            \n",
       "4                                                 96            \n",
       "\n",
       "   Polio (Pol3) immunization coverage among 1-year-olds (%).2  \\\n",
       "0                                               2012            \n",
       "1                                                 67            \n",
       "2                                                 99            \n",
       "3                                                 95            \n",
       "4                                                 99            \n",
       "\n",
       "   Polio (Pol3) immunization coverage among 1-year-olds (%).3  \\\n",
       "0                                               2011            \n",
       "1                                                 68            \n",
       "2                                                 99            \n",
       "3                                                 95            \n",
       "4                                                 99            \n",
       "\n",
       "   Polio (Pol3) immunization coverage among 1-year-olds (%).4  \\\n",
       "0                                             2010.0            \n",
       "1                                               66.0            \n",
       "2                                               99.0            \n",
       "3                                               95.0            \n",
       "4                                               99.0            \n",
       "\n",
       "   Polio (Pol3) immunization coverage among 1-year-olds (%).5  \\\n",
       "0                                             2009.0            \n",
       "1                                               63.0            \n",
       "2                                               98.0            \n",
       "3                                               94.0            \n",
       "4                                               99.0            \n",
       "\n",
       "   Polio (Pol3) immunization coverage among 1-year-olds (%).6  \\\n",
       "0                                             2008.0            \n",
       "1                                               64.0            \n",
       "2                                               99.0            \n",
       "3                                               92.0            \n",
       "4                                               99.0            \n",
       "\n",
       "   Polio (Pol3) immunization coverage among 1-year-olds (%).7  \\\n",
       "0                                             2007.0            \n",
       "1                                               63.0            \n",
       "2                                               99.0            \n",
       "3                                               95.0            \n",
       "4                                               96.0            \n",
       "\n",
       "   Polio (Pol3) immunization coverage among 1-year-olds (%).8  \\\n",
       "0                                             2006.0            \n",
       "1                                               58.0            \n",
       "2                                               97.0            \n",
       "3                                               95.0            \n",
       "4                                               93.0            \n",
       "\n",
       "                              ...                               \\\n",
       "0                             ...                                \n",
       "1                             ...                                \n",
       "2                             ...                                \n",
       "3                             ...                                \n",
       "4                             ...                                \n",
       "\n",
       "   Polio (Pol3) immunization coverage among 1-year-olds (%).25  \\\n",
       "0                                             1989.0             \n",
       "1                                               33.0             \n",
       "2                                               96.0             \n",
       "3                                               87.0             \n",
       "4                                                NaN             \n",
       "\n",
       "   Polio (Pol3) immunization coverage among 1-year-olds (%).26  \\\n",
       "0                                             1988.0             \n",
       "1                                               35.0             \n",
       "2                                               96.0             \n",
       "3                                               85.0             \n",
       "4                                                NaN             \n",
       "\n",
       "   Polio (Pol3) immunization coverage among 1-year-olds (%).27  \\\n",
       "0                                             1987.0             \n",
       "1                                               25.0             \n",
       "2                                               94.0             \n",
       "3                                               79.0             \n",
       "4                                                NaN             \n",
       "\n",
       "   Polio (Pol3) immunization coverage among 1-year-olds (%).28  \\\n",
       "0                                             1986.0             \n",
       "1                                               11.0             \n",
       "2                                               94.0             \n",
       "3                                               72.0             \n",
       "4                                                NaN             \n",
       "\n",
       "   Polio (Pol3) immunization coverage among 1-year-olds (%).29  \\\n",
       "0                                             1985.0             \n",
       "1                                               15.0             \n",
       "2                                               94.0             \n",
       "3                                               69.0             \n",
       "4                                                NaN             \n",
       "\n",
       "   Polio (Pol3) immunization coverage among 1-year-olds (%).30  \\\n",
       "0                                             1984.0             \n",
       "1                                               16.0             \n",
       "2                                               92.0             \n",
       "3                                               30.0             \n",
       "4                                                NaN             \n",
       "\n",
       "   Polio (Pol3) immunization coverage among 1-year-olds (%).31  \\\n",
       "0                                             1983.0             \n",
       "1                                                5.0             \n",
       "2                                               92.0             \n",
       "3                                               30.0             \n",
       "4                                                NaN             \n",
       "\n",
       "   Polio (Pol3) immunization coverage among 1-year-olds (%).32  \\\n",
       "0                                             1982.0             \n",
       "1                                                5.0             \n",
       "2                                               92.0             \n",
       "3                                               31.0             \n",
       "4                                                NaN             \n",
       "\n",
       "   Polio (Pol3) immunization coverage among 1-year-olds (%).33  \\\n",
       "0                                             1981.0             \n",
       "1                                                3.0             \n",
       "2                                               92.0             \n",
       "3                                               31.0             \n",
       "4                                                NaN             \n",
       "\n",
       "   Polio (Pol3) immunization coverage among 1-year-olds (%).34  \n",
       "0                                             1980.0            \n",
       "1                                                NaN            \n",
       "2                                               92.0            \n",
       "3                                                NaN            \n",
       "4                                                NaN            \n",
       "\n",
       "[5 rows x 36 columns]"
      ]
     },
     "execution_count": 44,
     "metadata": {},
     "output_type": "execute_result"
    }
   ],
   "source": [
    "import warnings\n",
    "warnings.simplefilter('ignore', FutureWarning)\n",
    "\n",
    "from pandas import *\n",
    "immunData = read_csv('Polio_immun.csv')\n",
    "\n",
    "immunData.head()"
   ]
  },
  {
   "cell_type": "code",
   "execution_count": 2,
   "metadata": {
    "collapsed": false
   },
   "outputs": [
    {
     "data": {
      "text/html": [
       "<div>\n",
       "<table border=\"1\" class=\"dataframe\">\n",
       "  <thead>\n",
       "    <tr style=\"text-align: right;\">\n",
       "      <th></th>\n",
       "      <th>Unnamed: 0</th>\n",
       "      <th>Polio (Pol3) immunization coverage among 1-year-olds (%)</th>\n",
       "      <th>Polio (Pol3) immunization coverage among 1-year-olds (%).14</th>\n",
       "      <th>Polio (Pol3) immunization coverage among 1-year-olds (%).28</th>\n",
       "    </tr>\n",
       "  </thead>\n",
       "  <tbody>\n",
       "    <tr>\n",
       "      <th>0</th>\n",
       "      <td>Country</td>\n",
       "      <td>2014</td>\n",
       "      <td>2000.0</td>\n",
       "      <td>1986.0</td>\n",
       "    </tr>\n",
       "    <tr>\n",
       "      <th>1</th>\n",
       "      <td>Afghanistan</td>\n",
       "      <td>75</td>\n",
       "      <td>24.0</td>\n",
       "      <td>11.0</td>\n",
       "    </tr>\n",
       "    <tr>\n",
       "      <th>2</th>\n",
       "      <td>Albania</td>\n",
       "      <td>98</td>\n",
       "      <td>97.0</td>\n",
       "      <td>94.0</td>\n",
       "    </tr>\n",
       "    <tr>\n",
       "      <th>3</th>\n",
       "      <td>Algeria</td>\n",
       "      <td>95</td>\n",
       "      <td>86.0</td>\n",
       "      <td>72.0</td>\n",
       "    </tr>\n",
       "    <tr>\n",
       "      <th>4</th>\n",
       "      <td>Andorra</td>\n",
       "      <td>97</td>\n",
       "      <td>95.0</td>\n",
       "      <td>NaN</td>\n",
       "    </tr>\n",
       "  </tbody>\n",
       "</table>\n",
       "</div>"
      ],
      "text/plain": [
       "    Unnamed: 0  Polio (Pol3) immunization coverage among 1-year-olds (%)  \\\n",
       "0      Country                                               2014          \n",
       "1  Afghanistan                                                 75          \n",
       "2      Albania                                                 98          \n",
       "3      Algeria                                                 95          \n",
       "4      Andorra                                                 97          \n",
       "\n",
       "   Polio (Pol3) immunization coverage among 1-year-olds (%).14  \\\n",
       "0                                             2000.0             \n",
       "1                                               24.0             \n",
       "2                                               97.0             \n",
       "3                                               86.0             \n",
       "4                                               95.0             \n",
       "\n",
       "   Polio (Pol3) immunization coverage among 1-year-olds (%).28  \n",
       "0                                             1986.0            \n",
       "1                                               11.0            \n",
       "2                                               94.0            \n",
       "3                                               72.0            \n",
       "4                                                NaN            "
      ]
     },
     "execution_count": 2,
     "metadata": {},
     "output_type": "execute_result"
    }
   ],
   "source": [
    "#Grab Columns for 2014, 2000 and 1986\n",
    "#Rename Attributes\n",
    "#Delete first index\n",
    "#Make new Data Frame w/ South and Southeast Asian countries \n",
    "\n",
    "newImmunData = immunData[['Unnamed: 0','Polio (Pol3) immunization coverage among 1-year-olds (%)','Polio (Pol3) immunization coverage among 1-year-olds (%).14','Polio (Pol3) immunization coverage among 1-year-olds (%).28']]\n",
    "\n",
    "newImmunData.head()"
   ]
  },
  {
   "cell_type": "code",
   "execution_count": 3,
   "metadata": {
    "collapsed": false
   },
   "outputs": [],
   "source": [
    "#Rename Attributes \n",
    "\n",
    "newImmunData = newImmunData.rename(columns={'Unnamed: 0' :'Country'})\n",
    "newImmunData = newImmunData.rename(columns={'Polio (Pol3) immunization coverage among 1-year-olds (%)' : 'Polio Immunization of 1-year olds(%) in 2014'})\n",
    "newImmunData = newImmunData.rename(columns={'Polio (Pol3) immunization coverage among 1-year-olds (%).14' : 'Polio Immunization of 1-year olds(%) in 2000'})\n",
    "newImmunData = newImmunData.rename(columns={'Polio (Pol3) immunization coverage among 1-year-olds (%).28' : 'Polio Immunization of 1-year olds(%) in 1986'})"
   ]
  },
  {
   "cell_type": "code",
   "execution_count": 4,
   "metadata": {
    "collapsed": false
   },
   "outputs": [
    {
     "data": {
      "text/html": [
       "<div>\n",
       "<table border=\"1\" class=\"dataframe\">\n",
       "  <thead>\n",
       "    <tr style=\"text-align: right;\">\n",
       "      <th></th>\n",
       "      <th>Country</th>\n",
       "      <th>Polio Immunization of 1-year olds(%) in 2014</th>\n",
       "      <th>Polio Immunization of 1-year olds(%) in 2000</th>\n",
       "      <th>Polio Immunization of 1-year olds(%) in 1986</th>\n",
       "    </tr>\n",
       "  </thead>\n",
       "  <tbody>\n",
       "    <tr>\n",
       "      <th>0</th>\n",
       "      <td>Country</td>\n",
       "      <td>2014</td>\n",
       "      <td>2000.0</td>\n",
       "      <td>1986.0</td>\n",
       "    </tr>\n",
       "    <tr>\n",
       "      <th>1</th>\n",
       "      <td>Afghanistan</td>\n",
       "      <td>75</td>\n",
       "      <td>24.0</td>\n",
       "      <td>11.0</td>\n",
       "    </tr>\n",
       "    <tr>\n",
       "      <th>2</th>\n",
       "      <td>Albania</td>\n",
       "      <td>98</td>\n",
       "      <td>97.0</td>\n",
       "      <td>94.0</td>\n",
       "    </tr>\n",
       "    <tr>\n",
       "      <th>3</th>\n",
       "      <td>Algeria</td>\n",
       "      <td>95</td>\n",
       "      <td>86.0</td>\n",
       "      <td>72.0</td>\n",
       "    </tr>\n",
       "    <tr>\n",
       "      <th>4</th>\n",
       "      <td>Andorra</td>\n",
       "      <td>97</td>\n",
       "      <td>95.0</td>\n",
       "      <td>NaN</td>\n",
       "    </tr>\n",
       "  </tbody>\n",
       "</table>\n",
       "</div>"
      ],
      "text/plain": [
       "       Country  Polio Immunization of 1-year olds(%) in 2014  \\\n",
       "0      Country                                          2014   \n",
       "1  Afghanistan                                            75   \n",
       "2      Albania                                            98   \n",
       "3      Algeria                                            95   \n",
       "4      Andorra                                            97   \n",
       "\n",
       "   Polio Immunization of 1-year olds(%) in 2000  \\\n",
       "0                                        2000.0   \n",
       "1                                          24.0   \n",
       "2                                          97.0   \n",
       "3                                          86.0   \n",
       "4                                          95.0   \n",
       "\n",
       "   Polio Immunization of 1-year olds(%) in 1986  \n",
       "0                                        1986.0  \n",
       "1                                          11.0  \n",
       "2                                          94.0  \n",
       "3                                          72.0  \n",
       "4                                           NaN  "
      ]
     },
     "execution_count": 4,
     "metadata": {},
     "output_type": "execute_result"
    }
   ],
   "source": [
    "newImmunData.head()"
   ]
  },
  {
   "cell_type": "code",
   "execution_count": 5,
   "metadata": {
    "collapsed": false
   },
   "outputs": [
    {
     "data": {
      "text/plain": [
       "Country                                          object\n",
       "Polio Immunization of 1-year olds(%) in 2014      int64\n",
       "Polio Immunization of 1-year olds(%) in 2000    float64\n",
       "Polio Immunization of 1-year olds(%) in 1986    float64\n",
       "dtype: object"
      ]
     },
     "execution_count": 5,
     "metadata": {},
     "output_type": "execute_result"
    }
   ],
   "source": [
    "newImmunData.dtypes"
   ]
  },
  {
   "cell_type": "code",
   "execution_count": 6,
   "metadata": {
    "collapsed": false
   },
   "outputs": [],
   "source": [
    "#Remove first Index\n",
    "newImmunData=newImmunData.drop([0])"
   ]
  },
  {
   "cell_type": "code",
   "execution_count": 7,
   "metadata": {
    "collapsed": false
   },
   "outputs": [],
   "source": [
    "#Reset the Index\n",
    "newImmunData=newImmunData.reset_index()"
   ]
  },
  {
   "cell_type": "code",
   "execution_count": 8,
   "metadata": {
    "collapsed": false
   },
   "outputs": [
    {
     "data": {
      "text/html": [
       "<div>\n",
       "<table border=\"1\" class=\"dataframe\">\n",
       "  <thead>\n",
       "    <tr style=\"text-align: right;\">\n",
       "      <th></th>\n",
       "      <th>index</th>\n",
       "      <th>Country</th>\n",
       "      <th>Polio Immunization of 1-year olds(%) in 2014</th>\n",
       "      <th>Polio Immunization of 1-year olds(%) in 2000</th>\n",
       "      <th>Polio Immunization of 1-year olds(%) in 1986</th>\n",
       "    </tr>\n",
       "  </thead>\n",
       "  <tbody>\n",
       "    <tr>\n",
       "      <th>0</th>\n",
       "      <td>1</td>\n",
       "      <td>Afghanistan</td>\n",
       "      <td>75</td>\n",
       "      <td>24.0</td>\n",
       "      <td>11.0</td>\n",
       "    </tr>\n",
       "    <tr>\n",
       "      <th>1</th>\n",
       "      <td>2</td>\n",
       "      <td>Albania</td>\n",
       "      <td>98</td>\n",
       "      <td>97.0</td>\n",
       "      <td>94.0</td>\n",
       "    </tr>\n",
       "    <tr>\n",
       "      <th>2</th>\n",
       "      <td>3</td>\n",
       "      <td>Algeria</td>\n",
       "      <td>95</td>\n",
       "      <td>86.0</td>\n",
       "      <td>72.0</td>\n",
       "    </tr>\n",
       "    <tr>\n",
       "      <th>3</th>\n",
       "      <td>4</td>\n",
       "      <td>Andorra</td>\n",
       "      <td>97</td>\n",
       "      <td>95.0</td>\n",
       "      <td>NaN</td>\n",
       "    </tr>\n",
       "    <tr>\n",
       "      <th>4</th>\n",
       "      <td>5</td>\n",
       "      <td>Angola</td>\n",
       "      <td>81</td>\n",
       "      <td>33.0</td>\n",
       "      <td>15.0</td>\n",
       "    </tr>\n",
       "  </tbody>\n",
       "</table>\n",
       "</div>"
      ],
      "text/plain": [
       "   index      Country  Polio Immunization of 1-year olds(%) in 2014  \\\n",
       "0      1  Afghanistan                                            75   \n",
       "1      2      Albania                                            98   \n",
       "2      3      Algeria                                            95   \n",
       "3      4      Andorra                                            97   \n",
       "4      5       Angola                                            81   \n",
       "\n",
       "   Polio Immunization of 1-year olds(%) in 2000  \\\n",
       "0                                          24.0   \n",
       "1                                          97.0   \n",
       "2                                          86.0   \n",
       "3                                          95.0   \n",
       "4                                          33.0   \n",
       "\n",
       "   Polio Immunization of 1-year olds(%) in 1986  \n",
       "0                                          11.0  \n",
       "1                                          94.0  \n",
       "2                                          72.0  \n",
       "3                                           NaN  \n",
       "4                                          15.0  "
      ]
     },
     "execution_count": 8,
     "metadata": {},
     "output_type": "execute_result"
    }
   ],
   "source": [
    "newImmunData.head()"
   ]
  },
  {
   "cell_type": "code",
   "execution_count": 9,
   "metadata": {
    "collapsed": false
   },
   "outputs": [],
   "source": [
    "#Drop the old Index column\n",
    "newImmunData=newImmunData.drop('index', axis=1)"
   ]
  },
  {
   "cell_type": "code",
   "execution_count": 10,
   "metadata": {
    "collapsed": false,
    "scrolled": true
   },
   "outputs": [
    {
     "data": {
      "text/html": [
       "<div>\n",
       "<table border=\"1\" class=\"dataframe\">\n",
       "  <thead>\n",
       "    <tr style=\"text-align: right;\">\n",
       "      <th></th>\n",
       "      <th>Country</th>\n",
       "      <th>Polio Immunization of 1-year olds(%) in 2014</th>\n",
       "      <th>Polio Immunization of 1-year olds(%) in 2000</th>\n",
       "      <th>Polio Immunization of 1-year olds(%) in 1986</th>\n",
       "    </tr>\n",
       "  </thead>\n",
       "  <tbody>\n",
       "    <tr>\n",
       "      <th>0</th>\n",
       "      <td>Afghanistan</td>\n",
       "      <td>75</td>\n",
       "      <td>24.0</td>\n",
       "      <td>11.0</td>\n",
       "    </tr>\n",
       "    <tr>\n",
       "      <th>1</th>\n",
       "      <td>Albania</td>\n",
       "      <td>98</td>\n",
       "      <td>97.0</td>\n",
       "      <td>94.0</td>\n",
       "    </tr>\n",
       "    <tr>\n",
       "      <th>2</th>\n",
       "      <td>Algeria</td>\n",
       "      <td>95</td>\n",
       "      <td>86.0</td>\n",
       "      <td>72.0</td>\n",
       "    </tr>\n",
       "    <tr>\n",
       "      <th>3</th>\n",
       "      <td>Andorra</td>\n",
       "      <td>97</td>\n",
       "      <td>95.0</td>\n",
       "      <td>NaN</td>\n",
       "    </tr>\n",
       "    <tr>\n",
       "      <th>4</th>\n",
       "      <td>Angola</td>\n",
       "      <td>81</td>\n",
       "      <td>33.0</td>\n",
       "      <td>15.0</td>\n",
       "    </tr>\n",
       "  </tbody>\n",
       "</table>\n",
       "</div>"
      ],
      "text/plain": [
       "       Country  Polio Immunization of 1-year olds(%) in 2014  \\\n",
       "0  Afghanistan                                            75   \n",
       "1      Albania                                            98   \n",
       "2      Algeria                                            95   \n",
       "3      Andorra                                            97   \n",
       "4       Angola                                            81   \n",
       "\n",
       "   Polio Immunization of 1-year olds(%) in 2000  \\\n",
       "0                                          24.0   \n",
       "1                                          97.0   \n",
       "2                                          86.0   \n",
       "3                                          95.0   \n",
       "4                                          33.0   \n",
       "\n",
       "   Polio Immunization of 1-year olds(%) in 1986  \n",
       "0                                          11.0  \n",
       "1                                          94.0  \n",
       "2                                          72.0  \n",
       "3                                           NaN  \n",
       "4                                          15.0  "
      ]
     },
     "execution_count": 10,
     "metadata": {},
     "output_type": "execute_result"
    }
   ],
   "source": [
    "newImmunData.head()"
   ]
  },
  {
   "cell_type": "code",
   "execution_count": 11,
   "metadata": {
    "collapsed": false
   },
   "outputs": [],
   "source": [
    "#New Dataframe with South and Southeast Asian countries selected  \n",
    "newImmunData=newImmunData.drop([1,2,3,4,5,6,8,9,11,14,15,16,17,18,20,21,22,23,25,26,27,28,29,31,32,33,34,35,37,38,39,40,41,42,43,44,45,47,48,49,50,51,52,53,54,55,56,57,58,59,60,61,62,63,64,65,66,67,68,69,70,71,72,73,74,75,76,81,83,84,88,93,95,96,97,7,10,12,46,82,85,86,87,90,91,94,98,99,100,89,101,104,105,106,107,108,109,110,111,113,114,115,117,118,120,121,122,123,124,125,126,127,129,130,131,79,80,112,132,133,135,136,137,138,139,140,141,142,143,145,144,146,147,148,149,150,151,152,153,155,156,157,158,159,160,161,163,164,165,166,167,168,169,171,173,174,175,176,177,178,179,180,181,182,183,184,185,186,187,188,189,191,192,193])"
   ]
  },
  {
   "cell_type": "code",
   "execution_count": 12,
   "metadata": {
    "collapsed": true
   },
   "outputs": [],
   "source": [
    "#Alternatively, you can construct your own df from scratch by manually inputing the desired data..."
   ]
  },
  {
   "cell_type": "code",
   "execution_count": 13,
   "metadata": {
    "collapsed": false,
    "scrolled": false
   },
   "outputs": [
    {
     "data": {
      "text/html": [
       "<div>\n",
       "<table border=\"1\" class=\"dataframe\">\n",
       "  <thead>\n",
       "    <tr style=\"text-align: right;\">\n",
       "      <th></th>\n",
       "      <th>Country</th>\n",
       "      <th>Polio Immunization of 1-year olds(%) in 2014</th>\n",
       "      <th>Polio Immunization of 1-year olds(%) in 2000</th>\n",
       "      <th>Polio Immunization of 1-year olds(%) in 1986</th>\n",
       "    </tr>\n",
       "  </thead>\n",
       "  <tbody>\n",
       "    <tr>\n",
       "      <th>0</th>\n",
       "      <td>Afghanistan</td>\n",
       "      <td>75</td>\n",
       "      <td>24.0</td>\n",
       "      <td>11.0</td>\n",
       "    </tr>\n",
       "    <tr>\n",
       "      <th>13</th>\n",
       "      <td>Bangladesh</td>\n",
       "      <td>95</td>\n",
       "      <td>83.0</td>\n",
       "      <td>4.0</td>\n",
       "    </tr>\n",
       "    <tr>\n",
       "      <th>19</th>\n",
       "      <td>Bhutan</td>\n",
       "      <td>98</td>\n",
       "      <td>98.0</td>\n",
       "      <td>54.0</td>\n",
       "    </tr>\n",
       "    <tr>\n",
       "      <th>24</th>\n",
       "      <td>Brunei Darussalam</td>\n",
       "      <td>99</td>\n",
       "      <td>99.0</td>\n",
       "      <td>86.0</td>\n",
       "    </tr>\n",
       "    <tr>\n",
       "      <th>30</th>\n",
       "      <td>Cambodia</td>\n",
       "      <td>98</td>\n",
       "      <td>62.0</td>\n",
       "      <td>35.0</td>\n",
       "    </tr>\n",
       "    <tr>\n",
       "      <th>36</th>\n",
       "      <td>China</td>\n",
       "      <td>99</td>\n",
       "      <td>86.0</td>\n",
       "      <td>68.0</td>\n",
       "    </tr>\n",
       "    <tr>\n",
       "      <th>77</th>\n",
       "      <td>India</td>\n",
       "      <td>82</td>\n",
       "      <td>57.0</td>\n",
       "      <td>16.0</td>\n",
       "    </tr>\n",
       "    <tr>\n",
       "      <th>78</th>\n",
       "      <td>Indonesia</td>\n",
       "      <td>79</td>\n",
       "      <td>72.0</td>\n",
       "      <td>46.0</td>\n",
       "    </tr>\n",
       "    <tr>\n",
       "      <th>92</th>\n",
       "      <td>Lao People's Democratic Republic</td>\n",
       "      <td>88</td>\n",
       "      <td>57.0</td>\n",
       "      <td>6.0</td>\n",
       "    </tr>\n",
       "    <tr>\n",
       "      <th>102</th>\n",
       "      <td>Malaysia</td>\n",
       "      <td>97</td>\n",
       "      <td>98.0</td>\n",
       "      <td>62.0</td>\n",
       "    </tr>\n",
       "    <tr>\n",
       "      <th>103</th>\n",
       "      <td>Maldives</td>\n",
       "      <td>99</td>\n",
       "      <td>98.0</td>\n",
       "      <td>42.0</td>\n",
       "    </tr>\n",
       "    <tr>\n",
       "      <th>116</th>\n",
       "      <td>Myanmar</td>\n",
       "      <td>76</td>\n",
       "      <td>88.0</td>\n",
       "      <td>4.0</td>\n",
       "    </tr>\n",
       "    <tr>\n",
       "      <th>119</th>\n",
       "      <td>Nepal</td>\n",
       "      <td>92</td>\n",
       "      <td>74.0</td>\n",
       "      <td>34.0</td>\n",
       "    </tr>\n",
       "    <tr>\n",
       "      <th>128</th>\n",
       "      <td>Pakistan</td>\n",
       "      <td>72</td>\n",
       "      <td>65.0</td>\n",
       "      <td>34.0</td>\n",
       "    </tr>\n",
       "    <tr>\n",
       "      <th>134</th>\n",
       "      <td>Philippines</td>\n",
       "      <td>84</td>\n",
       "      <td>74.0</td>\n",
       "      <td>65.0</td>\n",
       "    </tr>\n",
       "    <tr>\n",
       "      <th>154</th>\n",
       "      <td>Singapore</td>\n",
       "      <td>97</td>\n",
       "      <td>98.0</td>\n",
       "      <td>94.0</td>\n",
       "    </tr>\n",
       "    <tr>\n",
       "      <th>162</th>\n",
       "      <td>Sri Lanka</td>\n",
       "      <td>99</td>\n",
       "      <td>99.0</td>\n",
       "      <td>75.0</td>\n",
       "    </tr>\n",
       "    <tr>\n",
       "      <th>170</th>\n",
       "      <td>Thailand</td>\n",
       "      <td>99</td>\n",
       "      <td>97.0</td>\n",
       "      <td>66.0</td>\n",
       "    </tr>\n",
       "    <tr>\n",
       "      <th>172</th>\n",
       "      <td>Timor-Leste</td>\n",
       "      <td>76</td>\n",
       "      <td>NaN</td>\n",
       "      <td>NaN</td>\n",
       "    </tr>\n",
       "    <tr>\n",
       "      <th>190</th>\n",
       "      <td>Viet Nam</td>\n",
       "      <td>96</td>\n",
       "      <td>96.0</td>\n",
       "      <td>45.0</td>\n",
       "    </tr>\n",
       "  </tbody>\n",
       "</table>\n",
       "</div>"
      ],
      "text/plain": [
       "                              Country  \\\n",
       "0                         Afghanistan   \n",
       "13                         Bangladesh   \n",
       "19                             Bhutan   \n",
       "24                  Brunei Darussalam   \n",
       "30                           Cambodia   \n",
       "36                              China   \n",
       "77                              India   \n",
       "78                          Indonesia   \n",
       "92   Lao People's Democratic Republic   \n",
       "102                          Malaysia   \n",
       "103                          Maldives   \n",
       "116                           Myanmar   \n",
       "119                             Nepal   \n",
       "128                          Pakistan   \n",
       "134                       Philippines   \n",
       "154                         Singapore   \n",
       "162                         Sri Lanka   \n",
       "170                          Thailand   \n",
       "172                       Timor-Leste   \n",
       "190                          Viet Nam   \n",
       "\n",
       "     Polio Immunization of 1-year olds(%) in 2014  \\\n",
       "0                                              75   \n",
       "13                                             95   \n",
       "19                                             98   \n",
       "24                                             99   \n",
       "30                                             98   \n",
       "36                                             99   \n",
       "77                                             82   \n",
       "78                                             79   \n",
       "92                                             88   \n",
       "102                                            97   \n",
       "103                                            99   \n",
       "116                                            76   \n",
       "119                                            92   \n",
       "128                                            72   \n",
       "134                                            84   \n",
       "154                                            97   \n",
       "162                                            99   \n",
       "170                                            99   \n",
       "172                                            76   \n",
       "190                                            96   \n",
       "\n",
       "     Polio Immunization of 1-year olds(%) in 2000  \\\n",
       "0                                            24.0   \n",
       "13                                           83.0   \n",
       "19                                           98.0   \n",
       "24                                           99.0   \n",
       "30                                           62.0   \n",
       "36                                           86.0   \n",
       "77                                           57.0   \n",
       "78                                           72.0   \n",
       "92                                           57.0   \n",
       "102                                          98.0   \n",
       "103                                          98.0   \n",
       "116                                          88.0   \n",
       "119                                          74.0   \n",
       "128                                          65.0   \n",
       "134                                          74.0   \n",
       "154                                          98.0   \n",
       "162                                          99.0   \n",
       "170                                          97.0   \n",
       "172                                           NaN   \n",
       "190                                          96.0   \n",
       "\n",
       "     Polio Immunization of 1-year olds(%) in 1986  \n",
       "0                                            11.0  \n",
       "13                                            4.0  \n",
       "19                                           54.0  \n",
       "24                                           86.0  \n",
       "30                                           35.0  \n",
       "36                                           68.0  \n",
       "77                                           16.0  \n",
       "78                                           46.0  \n",
       "92                                            6.0  \n",
       "102                                          62.0  \n",
       "103                                          42.0  \n",
       "116                                           4.0  \n",
       "119                                          34.0  \n",
       "128                                          34.0  \n",
       "134                                          65.0  \n",
       "154                                          94.0  \n",
       "162                                          75.0  \n",
       "170                                          66.0  \n",
       "172                                           NaN  \n",
       "190                                          45.0  "
      ]
     },
     "execution_count": 13,
     "metadata": {},
     "output_type": "execute_result"
    }
   ],
   "source": [
    "newImmunData"
   ]
  },
  {
   "cell_type": "code",
   "execution_count": 14,
   "metadata": {
    "collapsed": false
   },
   "outputs": [],
   "source": [
    "#Reset the Index\n",
    "newImmunData=newImmunData.reset_index()\n",
    "\n",
    "#Drop the old Index column\n",
    "newImmunData=newImmunData.drop('index', axis=1)\n",
    "#newImmunData=newImmunData.drop('level_0', axis=1)???"
   ]
  },
  {
   "cell_type": "code",
   "execution_count": 15,
   "metadata": {
    "collapsed": false
   },
   "outputs": [
    {
     "data": {
      "text/html": [
       "<div>\n",
       "<table border=\"1\" class=\"dataframe\">\n",
       "  <thead>\n",
       "    <tr style=\"text-align: right;\">\n",
       "      <th></th>\n",
       "      <th>Country</th>\n",
       "      <th>Polio Immunization of 1-year olds(%) in 2014</th>\n",
       "      <th>Polio Immunization of 1-year olds(%) in 2000</th>\n",
       "      <th>Polio Immunization of 1-year olds(%) in 1986</th>\n",
       "    </tr>\n",
       "  </thead>\n",
       "  <tbody>\n",
       "    <tr>\n",
       "      <th>0</th>\n",
       "      <td>Afghanistan</td>\n",
       "      <td>75</td>\n",
       "      <td>24.0</td>\n",
       "      <td>11.0</td>\n",
       "    </tr>\n",
       "    <tr>\n",
       "      <th>1</th>\n",
       "      <td>Bangladesh</td>\n",
       "      <td>95</td>\n",
       "      <td>83.0</td>\n",
       "      <td>4.0</td>\n",
       "    </tr>\n",
       "    <tr>\n",
       "      <th>2</th>\n",
       "      <td>Bhutan</td>\n",
       "      <td>98</td>\n",
       "      <td>98.0</td>\n",
       "      <td>54.0</td>\n",
       "    </tr>\n",
       "    <tr>\n",
       "      <th>3</th>\n",
       "      <td>Brunei Darussalam</td>\n",
       "      <td>99</td>\n",
       "      <td>99.0</td>\n",
       "      <td>86.0</td>\n",
       "    </tr>\n",
       "    <tr>\n",
       "      <th>4</th>\n",
       "      <td>Cambodia</td>\n",
       "      <td>98</td>\n",
       "      <td>62.0</td>\n",
       "      <td>35.0</td>\n",
       "    </tr>\n",
       "    <tr>\n",
       "      <th>5</th>\n",
       "      <td>China</td>\n",
       "      <td>99</td>\n",
       "      <td>86.0</td>\n",
       "      <td>68.0</td>\n",
       "    </tr>\n",
       "    <tr>\n",
       "      <th>6</th>\n",
       "      <td>India</td>\n",
       "      <td>82</td>\n",
       "      <td>57.0</td>\n",
       "      <td>16.0</td>\n",
       "    </tr>\n",
       "    <tr>\n",
       "      <th>7</th>\n",
       "      <td>Indonesia</td>\n",
       "      <td>79</td>\n",
       "      <td>72.0</td>\n",
       "      <td>46.0</td>\n",
       "    </tr>\n",
       "    <tr>\n",
       "      <th>8</th>\n",
       "      <td>Lao People's Democratic Republic</td>\n",
       "      <td>88</td>\n",
       "      <td>57.0</td>\n",
       "      <td>6.0</td>\n",
       "    </tr>\n",
       "    <tr>\n",
       "      <th>9</th>\n",
       "      <td>Malaysia</td>\n",
       "      <td>97</td>\n",
       "      <td>98.0</td>\n",
       "      <td>62.0</td>\n",
       "    </tr>\n",
       "    <tr>\n",
       "      <th>10</th>\n",
       "      <td>Maldives</td>\n",
       "      <td>99</td>\n",
       "      <td>98.0</td>\n",
       "      <td>42.0</td>\n",
       "    </tr>\n",
       "    <tr>\n",
       "      <th>11</th>\n",
       "      <td>Myanmar</td>\n",
       "      <td>76</td>\n",
       "      <td>88.0</td>\n",
       "      <td>4.0</td>\n",
       "    </tr>\n",
       "    <tr>\n",
       "      <th>12</th>\n",
       "      <td>Nepal</td>\n",
       "      <td>92</td>\n",
       "      <td>74.0</td>\n",
       "      <td>34.0</td>\n",
       "    </tr>\n",
       "    <tr>\n",
       "      <th>13</th>\n",
       "      <td>Pakistan</td>\n",
       "      <td>72</td>\n",
       "      <td>65.0</td>\n",
       "      <td>34.0</td>\n",
       "    </tr>\n",
       "    <tr>\n",
       "      <th>14</th>\n",
       "      <td>Philippines</td>\n",
       "      <td>84</td>\n",
       "      <td>74.0</td>\n",
       "      <td>65.0</td>\n",
       "    </tr>\n",
       "    <tr>\n",
       "      <th>15</th>\n",
       "      <td>Singapore</td>\n",
       "      <td>97</td>\n",
       "      <td>98.0</td>\n",
       "      <td>94.0</td>\n",
       "    </tr>\n",
       "    <tr>\n",
       "      <th>16</th>\n",
       "      <td>Sri Lanka</td>\n",
       "      <td>99</td>\n",
       "      <td>99.0</td>\n",
       "      <td>75.0</td>\n",
       "    </tr>\n",
       "    <tr>\n",
       "      <th>17</th>\n",
       "      <td>Thailand</td>\n",
       "      <td>99</td>\n",
       "      <td>97.0</td>\n",
       "      <td>66.0</td>\n",
       "    </tr>\n",
       "    <tr>\n",
       "      <th>18</th>\n",
       "      <td>Timor-Leste</td>\n",
       "      <td>76</td>\n",
       "      <td>NaN</td>\n",
       "      <td>NaN</td>\n",
       "    </tr>\n",
       "    <tr>\n",
       "      <th>19</th>\n",
       "      <td>Viet Nam</td>\n",
       "      <td>96</td>\n",
       "      <td>96.0</td>\n",
       "      <td>45.0</td>\n",
       "    </tr>\n",
       "  </tbody>\n",
       "</table>\n",
       "</div>"
      ],
      "text/plain": [
       "                             Country  \\\n",
       "0                        Afghanistan   \n",
       "1                         Bangladesh   \n",
       "2                             Bhutan   \n",
       "3                  Brunei Darussalam   \n",
       "4                           Cambodia   \n",
       "5                              China   \n",
       "6                              India   \n",
       "7                          Indonesia   \n",
       "8   Lao People's Democratic Republic   \n",
       "9                           Malaysia   \n",
       "10                          Maldives   \n",
       "11                           Myanmar   \n",
       "12                             Nepal   \n",
       "13                          Pakistan   \n",
       "14                       Philippines   \n",
       "15                         Singapore   \n",
       "16                         Sri Lanka   \n",
       "17                          Thailand   \n",
       "18                       Timor-Leste   \n",
       "19                          Viet Nam   \n",
       "\n",
       "    Polio Immunization of 1-year olds(%) in 2014  \\\n",
       "0                                             75   \n",
       "1                                             95   \n",
       "2                                             98   \n",
       "3                                             99   \n",
       "4                                             98   \n",
       "5                                             99   \n",
       "6                                             82   \n",
       "7                                             79   \n",
       "8                                             88   \n",
       "9                                             97   \n",
       "10                                            99   \n",
       "11                                            76   \n",
       "12                                            92   \n",
       "13                                            72   \n",
       "14                                            84   \n",
       "15                                            97   \n",
       "16                                            99   \n",
       "17                                            99   \n",
       "18                                            76   \n",
       "19                                            96   \n",
       "\n",
       "    Polio Immunization of 1-year olds(%) in 2000  \\\n",
       "0                                           24.0   \n",
       "1                                           83.0   \n",
       "2                                           98.0   \n",
       "3                                           99.0   \n",
       "4                                           62.0   \n",
       "5                                           86.0   \n",
       "6                                           57.0   \n",
       "7                                           72.0   \n",
       "8                                           57.0   \n",
       "9                                           98.0   \n",
       "10                                          98.0   \n",
       "11                                          88.0   \n",
       "12                                          74.0   \n",
       "13                                          65.0   \n",
       "14                                          74.0   \n",
       "15                                          98.0   \n",
       "16                                          99.0   \n",
       "17                                          97.0   \n",
       "18                                           NaN   \n",
       "19                                          96.0   \n",
       "\n",
       "    Polio Immunization of 1-year olds(%) in 1986  \n",
       "0                                           11.0  \n",
       "1                                            4.0  \n",
       "2                                           54.0  \n",
       "3                                           86.0  \n",
       "4                                           35.0  \n",
       "5                                           68.0  \n",
       "6                                           16.0  \n",
       "7                                           46.0  \n",
       "8                                            6.0  \n",
       "9                                           62.0  \n",
       "10                                          42.0  \n",
       "11                                           4.0  \n",
       "12                                          34.0  \n",
       "13                                          34.0  \n",
       "14                                          65.0  \n",
       "15                                          94.0  \n",
       "16                                          75.0  \n",
       "17                                          66.0  \n",
       "18                                           NaN  \n",
       "19                                          45.0  "
      ]
     },
     "execution_count": 15,
     "metadata": {},
     "output_type": "execute_result"
    }
   ],
   "source": [
    "newImmunData"
   ]
  },
  {
   "cell_type": "markdown",
   "metadata": {},
   "source": [
    "### Charts and Graphs \n",
    "\n",
    "From the WHO global Polio data set, the data on the South and Southeast Asian regions was retrieved and will afford a closer look at how Polio vacination has fared in that part of the world."
   ]
  },
  {
   "cell_type": "markdown",
   "metadata": {},
   "source": [
    "### Let's do some Analysis "
   ]
  },
  {
   "cell_type": "code",
   "execution_count": 16,
   "metadata": {
    "collapsed": false
   },
   "outputs": [],
   "source": [
    "#Lastest = 2014\n",
    "#Middle  = 2000\n",
    "#Earliest = 1986\n",
    "\n",
    "polio2014 = newImmunData['Polio Immunization of 1-year olds(%) in 2014']\n",
    "polio2000 = newImmunData['Polio Immunization of 1-year olds(%) in 2000']\n",
    "polio1986 = newImmunData['Polio Immunization of 1-year olds(%) in 1986']"
   ]
  },
  {
   "cell_type": "markdown",
   "metadata": {},
   "source": [
    "Max and Min"
   ]
  },
  {
   "cell_type": "code",
   "execution_count": 17,
   "metadata": {
    "collapsed": false
   },
   "outputs": [
    {
     "data": {
      "text/plain": [
       "99"
      ]
     },
     "execution_count": 17,
     "metadata": {},
     "output_type": "execute_result"
    }
   ],
   "source": [
    "polio2014.max()"
   ]
  },
  {
   "cell_type": "code",
   "execution_count": 18,
   "metadata": {
    "collapsed": false
   },
   "outputs": [
    {
     "data": {
      "text/plain": [
       "72"
      ]
     },
     "execution_count": 18,
     "metadata": {},
     "output_type": "execute_result"
    }
   ],
   "source": [
    "polio2014.min()"
   ]
  },
  {
   "cell_type": "code",
   "execution_count": 19,
   "metadata": {
    "collapsed": false
   },
   "outputs": [
    {
     "data": {
      "text/plain": [
       "99.0"
      ]
     },
     "execution_count": 19,
     "metadata": {},
     "output_type": "execute_result"
    }
   ],
   "source": [
    "polio2000.max()"
   ]
  },
  {
   "cell_type": "code",
   "execution_count": 20,
   "metadata": {
    "collapsed": false
   },
   "outputs": [
    {
     "data": {
      "text/plain": [
       "24.0"
      ]
     },
     "execution_count": 20,
     "metadata": {},
     "output_type": "execute_result"
    }
   ],
   "source": [
    "polio2000.min()"
   ]
  },
  {
   "cell_type": "code",
   "execution_count": 21,
   "metadata": {
    "collapsed": false
   },
   "outputs": [
    {
     "data": {
      "text/plain": [
       "94.0"
      ]
     },
     "execution_count": 21,
     "metadata": {},
     "output_type": "execute_result"
    }
   ],
   "source": [
    "polio1986.max()"
   ]
  },
  {
   "cell_type": "code",
   "execution_count": 22,
   "metadata": {
    "collapsed": false
   },
   "outputs": [
    {
     "data": {
      "text/plain": [
       "4.0"
      ]
     },
     "execution_count": 22,
     "metadata": {},
     "output_type": "execute_result"
    }
   ],
   "source": [
    "polio1986.min()"
   ]
  },
  {
   "cell_type": "markdown",
   "metadata": {},
   "source": [
    "For the year 2014, the highest immunization percentage was 99% (China, Brunei, Maldives, Sri Lanka and Thailand), while the lowest was 72% (Pakistan). In 2000, the high was also 99% (Brunei and Sri Lanka), but the lowest was 24% (Afghanistan). In 1986, the highest was 94% (Singapore), while the lowest was only 4% (Myanmar). Timor-Leste has data missing for both 2000 and 1986. "
   ]
  },
  {
   "cell_type": "markdown",
   "metadata": {
    "collapsed": true
   },
   "source": [
    "### Averages \n",
    "\n",
    "During the MDG period 2000 to 2014:"
   ]
  },
  {
   "cell_type": "code",
   "execution_count": 23,
   "metadata": {
    "collapsed": false
   },
   "outputs": [
    {
     "data": {
      "text/plain": [
       "90.0"
      ]
     },
     "execution_count": 23,
     "metadata": {},
     "output_type": "execute_result"
    }
   ],
   "source": [
    "# Average immunization % of 1 year olds in South Asia for 2014\n",
    "polio2014.sum() / 20"
   ]
  },
  {
   "cell_type": "code",
   "execution_count": 24,
   "metadata": {
    "collapsed": false
   },
   "outputs": [
    {
     "data": {
      "text/plain": [
       "76.25"
      ]
     },
     "execution_count": 24,
     "metadata": {},
     "output_type": "execute_result"
    }
   ],
   "source": [
    "# Average immunization % of I year olds in South Asia for 2000\n",
    "polio2000.sum() / 20"
   ]
  },
  {
   "cell_type": "code",
   "execution_count": 25,
   "metadata": {
    "collapsed": false
   },
   "outputs": [
    {
     "data": {
      "text/plain": [
       "13.75"
      ]
     },
     "execution_count": 25,
     "metadata": {},
     "output_type": "execute_result"
    }
   ],
   "source": [
    "#What is the % change?\n",
    "#Take Period Range\n",
    "90-76.25"
   ]
  },
  {
   "cell_type": "code",
   "execution_count": 26,
   "metadata": {
    "collapsed": false
   },
   "outputs": [
    {
     "data": {
      "text/plain": [
       "0.18032786885245902"
      ]
     },
     "execution_count": 26,
     "metadata": {},
     "output_type": "execute_result"
    }
   ],
   "source": [
    "# (%) change of polio vaccination coverage in MDG time period\n",
    "#Divide by initial \n",
    "13.75/76.25"
   ]
  },
  {
   "cell_type": "markdown",
   "metadata": {},
   "source": [
    "For the year 2014, the average Polio vaccination coverage was 90%, while for the year 2000, the average was 76.25%. This means that immunization coverage increased by 18% from 2000 to 2014."
   ]
  },
  {
   "cell_type": "markdown",
   "metadata": {},
   "source": [
    "During the pre MDG period 1986 to 2000:"
   ]
  },
  {
   "cell_type": "code",
   "execution_count": 27,
   "metadata": {
    "collapsed": false
   },
   "outputs": [
    {
     "data": {
      "text/plain": [
       "42.35"
      ]
     },
     "execution_count": 27,
     "metadata": {},
     "output_type": "execute_result"
    }
   ],
   "source": [
    "#Average immunization % of 1 year olds in South Asia for 1986\n",
    "polio1986.sum()/20"
   ]
  },
  {
   "cell_type": "code",
   "execution_count": 28,
   "metadata": {
    "collapsed": false
   },
   "outputs": [
    {
     "data": {
      "text/plain": [
       "33.9"
      ]
     },
     "execution_count": 28,
     "metadata": {},
     "output_type": "execute_result"
    }
   ],
   "source": [
    "#Period Range\n",
    "76.25-42.35 "
   ]
  },
  {
   "cell_type": "code",
   "execution_count": 29,
   "metadata": {
    "collapsed": false
   },
   "outputs": [
    {
     "data": {
      "text/plain": [
       "0.8004722550177095"
      ]
     },
     "execution_count": 29,
     "metadata": {},
     "output_type": "execute_result"
    }
   ],
   "source": [
    "# (%) increase of polio vaccination coverage in MDG time period\n",
    "33.9/42.35"
   ]
  },
  {
   "cell_type": "markdown",
   "metadata": {},
   "source": [
    "The average Polio immunization coverage for the year 1986 was 42.35% and 76.25% for the year 2000. This means immunization coverage increased 80% from 1986 to 2000"
   ]
  },
  {
   "cell_type": "markdown",
   "metadata": {},
   "source": [
    "During entire Period 1986 to 2000:"
   ]
  },
  {
   "cell_type": "code",
   "execution_count": 30,
   "metadata": {
    "collapsed": false
   },
   "outputs": [
    {
     "data": {
      "text/plain": [
       "47.65"
      ]
     },
     "execution_count": 30,
     "metadata": {},
     "output_type": "execute_result"
    }
   ],
   "source": [
    "#Period Range:\n",
    "\n",
    "90 - 42.35"
   ]
  },
  {
   "cell_type": "code",
   "execution_count": 31,
   "metadata": {
    "collapsed": false
   },
   "outputs": [
    {
     "data": {
      "text/plain": [
       "1.1251475796930341"
      ]
     },
     "execution_count": 31,
     "metadata": {},
     "output_type": "execute_result"
    }
   ],
   "source": [
    "47.65/42.35"
   ]
  },
  {
   "cell_type": "markdown",
   "metadata": {},
   "source": [
    "Looking at the entire period, Polio immunization coverage increased 112.5% from 1986(42.35%) to 2014(90%)."
   ]
  },
  {
   "cell_type": "markdown",
   "metadata": {},
   "source": [
    "### Median and Mode"
   ]
  },
  {
   "cell_type": "code",
   "execution_count": 32,
   "metadata": {
    "collapsed": false
   },
   "outputs": [
    {
     "data": {
      "text/plain": [
       "95.5"
      ]
     },
     "execution_count": 32,
     "metadata": {},
     "output_type": "execute_result"
    }
   ],
   "source": [
    "#Median\n",
    "\n",
    "polio2014.median()"
   ]
  },
  {
   "cell_type": "code",
   "execution_count": 33,
   "metadata": {
    "collapsed": false
   },
   "outputs": [
    {
     "data": {
      "text/plain": [
       "86.0"
      ]
     },
     "execution_count": 33,
     "metadata": {},
     "output_type": "execute_result"
    }
   ],
   "source": [
    "polio2000.median()"
   ]
  },
  {
   "cell_type": "code",
   "execution_count": 34,
   "metadata": {
    "collapsed": false
   },
   "outputs": [
    {
     "data": {
      "text/plain": [
       "45.0"
      ]
     },
     "execution_count": 34,
     "metadata": {},
     "output_type": "execute_result"
    }
   ],
   "source": [
    "polio1986.median()"
   ]
  },
  {
   "cell_type": "code",
   "execution_count": 35,
   "metadata": {
    "collapsed": false
   },
   "outputs": [
    {
     "data": {
      "text/plain": [
       "0    99\n",
       "dtype: int64"
      ]
     },
     "execution_count": 35,
     "metadata": {},
     "output_type": "execute_result"
    }
   ],
   "source": [
    "#Mode\n",
    "\n",
    "polio2014.mode()"
   ]
  },
  {
   "cell_type": "code",
   "execution_count": 36,
   "metadata": {
    "collapsed": false
   },
   "outputs": [
    {
     "data": {
      "text/plain": [
       "0    98.0\n",
       "dtype: float64"
      ]
     },
     "execution_count": 36,
     "metadata": {},
     "output_type": "execute_result"
    }
   ],
   "source": [
    "polio2000.mode()"
   ]
  },
  {
   "cell_type": "code",
   "execution_count": 37,
   "metadata": {
    "collapsed": false
   },
   "outputs": [
    {
     "data": {
      "text/plain": [
       "0     4.0\n",
       "1    34.0\n",
       "dtype: float64"
      ]
     },
     "execution_count": 37,
     "metadata": {},
     "output_type": "execute_result"
    }
   ],
   "source": [
    "polio1986.mode()"
   ]
  },
  {
   "cell_type": "markdown",
   "metadata": {},
   "source": [
    "The medians are a bit higher than the averages, especially in the year 2000. The data set may have some extreme outliers skewing the averages. "
   ]
  },
  {
   "cell_type": "markdown",
   "metadata": {},
   "source": [
    "### Immunization Plot 1986-2000-2014\n",
    "\n",
    "Here are some charts to help visual the data."
   ]
  },
  {
   "cell_type": "code",
   "execution_count": 38,
   "metadata": {
    "collapsed": false
   },
   "outputs": [],
   "source": [
    "%matplotlib inline\n",
    "\n",
    "import numpy as np\n",
    "import pandas as pd\n",
    "from scipy import stats, integrate\n",
    "import matplotlib.pyplot as plt\n",
    "import seaborn as sns"
   ]
  },
  {
   "cell_type": "code",
   "execution_count": 39,
   "metadata": {
    "collapsed": false
   },
   "outputs": [
    {
     "data": {
      "text/html": [
       "<div>\n",
       "<table border=\"1\" class=\"dataframe\">\n",
       "  <thead>\n",
       "    <tr style=\"text-align: right;\">\n",
       "      <th></th>\n",
       "      <th>Country</th>\n",
       "      <th>Polio Immunization of 1-year olds(%) in 2014</th>\n",
       "      <th>Polio Immunization of 1-year olds(%) in 2000</th>\n",
       "      <th>Polio Immunization of 1-year olds(%) in 1986</th>\n",
       "    </tr>\n",
       "  </thead>\n",
       "  <tbody>\n",
       "    <tr>\n",
       "      <th>0</th>\n",
       "      <td>Afghanistan</td>\n",
       "      <td>75</td>\n",
       "      <td>24.0</td>\n",
       "      <td>11.0</td>\n",
       "    </tr>\n",
       "    <tr>\n",
       "      <th>1</th>\n",
       "      <td>Bangladesh</td>\n",
       "      <td>95</td>\n",
       "      <td>83.0</td>\n",
       "      <td>4.0</td>\n",
       "    </tr>\n",
       "    <tr>\n",
       "      <th>2</th>\n",
       "      <td>Bhutan</td>\n",
       "      <td>98</td>\n",
       "      <td>98.0</td>\n",
       "      <td>54.0</td>\n",
       "    </tr>\n",
       "    <tr>\n",
       "      <th>3</th>\n",
       "      <td>Brunei Darussalam</td>\n",
       "      <td>99</td>\n",
       "      <td>99.0</td>\n",
       "      <td>86.0</td>\n",
       "    </tr>\n",
       "    <tr>\n",
       "      <th>4</th>\n",
       "      <td>Cambodia</td>\n",
       "      <td>98</td>\n",
       "      <td>62.0</td>\n",
       "      <td>35.0</td>\n",
       "    </tr>\n",
       "    <tr>\n",
       "      <th>5</th>\n",
       "      <td>China</td>\n",
       "      <td>99</td>\n",
       "      <td>86.0</td>\n",
       "      <td>68.0</td>\n",
       "    </tr>\n",
       "    <tr>\n",
       "      <th>6</th>\n",
       "      <td>India</td>\n",
       "      <td>82</td>\n",
       "      <td>57.0</td>\n",
       "      <td>16.0</td>\n",
       "    </tr>\n",
       "    <tr>\n",
       "      <th>7</th>\n",
       "      <td>Indonesia</td>\n",
       "      <td>79</td>\n",
       "      <td>72.0</td>\n",
       "      <td>46.0</td>\n",
       "    </tr>\n",
       "    <tr>\n",
       "      <th>8</th>\n",
       "      <td>Lao People's Democratic Republic</td>\n",
       "      <td>88</td>\n",
       "      <td>57.0</td>\n",
       "      <td>6.0</td>\n",
       "    </tr>\n",
       "    <tr>\n",
       "      <th>9</th>\n",
       "      <td>Malaysia</td>\n",
       "      <td>97</td>\n",
       "      <td>98.0</td>\n",
       "      <td>62.0</td>\n",
       "    </tr>\n",
       "    <tr>\n",
       "      <th>10</th>\n",
       "      <td>Maldives</td>\n",
       "      <td>99</td>\n",
       "      <td>98.0</td>\n",
       "      <td>42.0</td>\n",
       "    </tr>\n",
       "    <tr>\n",
       "      <th>11</th>\n",
       "      <td>Myanmar</td>\n",
       "      <td>76</td>\n",
       "      <td>88.0</td>\n",
       "      <td>4.0</td>\n",
       "    </tr>\n",
       "    <tr>\n",
       "      <th>12</th>\n",
       "      <td>Nepal</td>\n",
       "      <td>92</td>\n",
       "      <td>74.0</td>\n",
       "      <td>34.0</td>\n",
       "    </tr>\n",
       "    <tr>\n",
       "      <th>13</th>\n",
       "      <td>Pakistan</td>\n",
       "      <td>72</td>\n",
       "      <td>65.0</td>\n",
       "      <td>34.0</td>\n",
       "    </tr>\n",
       "    <tr>\n",
       "      <th>14</th>\n",
       "      <td>Philippines</td>\n",
       "      <td>84</td>\n",
       "      <td>74.0</td>\n",
       "      <td>65.0</td>\n",
       "    </tr>\n",
       "    <tr>\n",
       "      <th>15</th>\n",
       "      <td>Singapore</td>\n",
       "      <td>97</td>\n",
       "      <td>98.0</td>\n",
       "      <td>94.0</td>\n",
       "    </tr>\n",
       "    <tr>\n",
       "      <th>16</th>\n",
       "      <td>Sri Lanka</td>\n",
       "      <td>99</td>\n",
       "      <td>99.0</td>\n",
       "      <td>75.0</td>\n",
       "    </tr>\n",
       "    <tr>\n",
       "      <th>17</th>\n",
       "      <td>Thailand</td>\n",
       "      <td>99</td>\n",
       "      <td>97.0</td>\n",
       "      <td>66.0</td>\n",
       "    </tr>\n",
       "    <tr>\n",
       "      <th>18</th>\n",
       "      <td>Timor-Leste</td>\n",
       "      <td>76</td>\n",
       "      <td>NaN</td>\n",
       "      <td>NaN</td>\n",
       "    </tr>\n",
       "    <tr>\n",
       "      <th>19</th>\n",
       "      <td>Viet Nam</td>\n",
       "      <td>96</td>\n",
       "      <td>96.0</td>\n",
       "      <td>45.0</td>\n",
       "    </tr>\n",
       "  </tbody>\n",
       "</table>\n",
       "</div>"
      ],
      "text/plain": [
       "                             Country  \\\n",
       "0                        Afghanistan   \n",
       "1                         Bangladesh   \n",
       "2                             Bhutan   \n",
       "3                  Brunei Darussalam   \n",
       "4                           Cambodia   \n",
       "5                              China   \n",
       "6                              India   \n",
       "7                          Indonesia   \n",
       "8   Lao People's Democratic Republic   \n",
       "9                           Malaysia   \n",
       "10                          Maldives   \n",
       "11                           Myanmar   \n",
       "12                             Nepal   \n",
       "13                          Pakistan   \n",
       "14                       Philippines   \n",
       "15                         Singapore   \n",
       "16                         Sri Lanka   \n",
       "17                          Thailand   \n",
       "18                       Timor-Leste   \n",
       "19                          Viet Nam   \n",
       "\n",
       "    Polio Immunization of 1-year olds(%) in 2014  \\\n",
       "0                                             75   \n",
       "1                                             95   \n",
       "2                                             98   \n",
       "3                                             99   \n",
       "4                                             98   \n",
       "5                                             99   \n",
       "6                                             82   \n",
       "7                                             79   \n",
       "8                                             88   \n",
       "9                                             97   \n",
       "10                                            99   \n",
       "11                                            76   \n",
       "12                                            92   \n",
       "13                                            72   \n",
       "14                                            84   \n",
       "15                                            97   \n",
       "16                                            99   \n",
       "17                                            99   \n",
       "18                                            76   \n",
       "19                                            96   \n",
       "\n",
       "    Polio Immunization of 1-year olds(%) in 2000  \\\n",
       "0                                           24.0   \n",
       "1                                           83.0   \n",
       "2                                           98.0   \n",
       "3                                           99.0   \n",
       "4                                           62.0   \n",
       "5                                           86.0   \n",
       "6                                           57.0   \n",
       "7                                           72.0   \n",
       "8                                           57.0   \n",
       "9                                           98.0   \n",
       "10                                          98.0   \n",
       "11                                          88.0   \n",
       "12                                          74.0   \n",
       "13                                          65.0   \n",
       "14                                          74.0   \n",
       "15                                          98.0   \n",
       "16                                          99.0   \n",
       "17                                          97.0   \n",
       "18                                           NaN   \n",
       "19                                          96.0   \n",
       "\n",
       "    Polio Immunization of 1-year olds(%) in 1986  \n",
       "0                                           11.0  \n",
       "1                                            4.0  \n",
       "2                                           54.0  \n",
       "3                                           86.0  \n",
       "4                                           35.0  \n",
       "5                                           68.0  \n",
       "6                                           16.0  \n",
       "7                                           46.0  \n",
       "8                                            6.0  \n",
       "9                                           62.0  \n",
       "10                                          42.0  \n",
       "11                                           4.0  \n",
       "12                                          34.0  \n",
       "13                                          34.0  \n",
       "14                                          65.0  \n",
       "15                                          94.0  \n",
       "16                                          75.0  \n",
       "17                                          66.0  \n",
       "18                                           NaN  \n",
       "19                                          45.0  "
      ]
     },
     "execution_count": 39,
     "metadata": {},
     "output_type": "execute_result"
    }
   ],
   "source": [
    "newImmunData"
   ]
  },
  {
   "cell_type": "code",
   "execution_count": 40,
   "metadata": {
    "collapsed": false
   },
   "outputs": [
    {
     "data": {
      "text/plain": [
       "<matplotlib.axes._subplots.AxesSubplot at 0x2dbb477ea90>"
      ]
     },
     "execution_count": 40,
     "metadata": {},
     "output_type": "execute_result"
    },
    {
     "data": {
      "image/png": "[encoded data removed]",
      "text/plain": [
       "<matplotlib.figure.Figure at 0x2dbb477e2e8>"
      ]
     },
     "metadata": {},
     "output_type": "display_data"
    }
   ],
   "source": [
    "areaPlot = newImmunData.plot.area(stacked=False, figsize=(20,10))\n",
    "areaPlot.set_xlabel('Countries', fontsize=30)\n",
    "areaPlot.set_ylabel('Polio Immunization of 1-year olds (%)', fontsize=30)\n",
    "areaPlot.legend(['2014','2000','1986'], fontsize=15);\n",
    "areaPlot.set_yticks([10,20,30,40,50,60,70,80,90,100])\n",
    "areaPlot.set_xticks([0,1,2,3,4,5,6,7,8,9,10,11,12,13,14,15,16,17,18,19])\n",
    "areaPlot.set_xticklabels(['Afghanistan','Bangladesh','Bhutan','Brunei','Cambodia','China','India','Indonesia','Laos','Malaysia','Maldives','Myanmar','Nepal','Pakistan','Philippines','Singapore','Sri Lanka','Thailand','Timor-Leste','Vietnam'], rotation=90, fontsize=20)\n",
    "areaPlot.set_title('Polio Immunization of 1-year olds in South and Southeast Asia', fontsize=35 )\n",
    "areaPlot"
   ]
  },
  {
   "cell_type": "code",
   "execution_count": 41,
   "metadata": {
    "collapsed": false
   },
   "outputs": [
    {
     "data": {
      "text/html": [
       "<div>\n",
       "<table border=\"1\" class=\"dataframe\">\n",
       "  <thead>\n",
       "    <tr style=\"text-align: right;\">\n",
       "      <th></th>\n",
       "      <th>index</th>\n",
       "      <th>Country</th>\n",
       "      <th>Polio Immunization of 1-year olds(%) in 2014</th>\n",
       "      <th>Polio Immunization of 1-year olds(%) in 2000</th>\n",
       "      <th>Polio Immunization of 1-year olds(%) in 1986</th>\n",
       "    </tr>\n",
       "  </thead>\n",
       "  <tbody>\n",
       "    <tr>\n",
       "      <th>0</th>\n",
       "      <td>0</td>\n",
       "      <td>Afghanistan</td>\n",
       "      <td>75</td>\n",
       "      <td>24.0</td>\n",
       "      <td>11.0</td>\n",
       "    </tr>\n",
       "    <tr>\n",
       "      <th>1</th>\n",
       "      <td>1</td>\n",
       "      <td>Bangladesh</td>\n",
       "      <td>95</td>\n",
       "      <td>83.0</td>\n",
       "      <td>4.0</td>\n",
       "    </tr>\n",
       "    <tr>\n",
       "      <th>2</th>\n",
       "      <td>2</td>\n",
       "      <td>Bhutan</td>\n",
       "      <td>98</td>\n",
       "      <td>98.0</td>\n",
       "      <td>54.0</td>\n",
       "    </tr>\n",
       "    <tr>\n",
       "      <th>3</th>\n",
       "      <td>3</td>\n",
       "      <td>Brunei Darussalam</td>\n",
       "      <td>99</td>\n",
       "      <td>99.0</td>\n",
       "      <td>86.0</td>\n",
       "    </tr>\n",
       "    <tr>\n",
       "      <th>4</th>\n",
       "      <td>4</td>\n",
       "      <td>Cambodia</td>\n",
       "      <td>98</td>\n",
       "      <td>62.0</td>\n",
       "      <td>35.0</td>\n",
       "    </tr>\n",
       "    <tr>\n",
       "      <th>5</th>\n",
       "      <td>5</td>\n",
       "      <td>China</td>\n",
       "      <td>99</td>\n",
       "      <td>86.0</td>\n",
       "      <td>68.0</td>\n",
       "    </tr>\n",
       "    <tr>\n",
       "      <th>6</th>\n",
       "      <td>6</td>\n",
       "      <td>India</td>\n",
       "      <td>82</td>\n",
       "      <td>57.0</td>\n",
       "      <td>16.0</td>\n",
       "    </tr>\n",
       "    <tr>\n",
       "      <th>7</th>\n",
       "      <td>7</td>\n",
       "      <td>Indonesia</td>\n",
       "      <td>79</td>\n",
       "      <td>72.0</td>\n",
       "      <td>46.0</td>\n",
       "    </tr>\n",
       "    <tr>\n",
       "      <th>8</th>\n",
       "      <td>8</td>\n",
       "      <td>Lao People's Democratic Republic</td>\n",
       "      <td>88</td>\n",
       "      <td>57.0</td>\n",
       "      <td>6.0</td>\n",
       "    </tr>\n",
       "    <tr>\n",
       "      <th>9</th>\n",
       "      <td>9</td>\n",
       "      <td>Malaysia</td>\n",
       "      <td>97</td>\n",
       "      <td>98.0</td>\n",
       "      <td>62.0</td>\n",
       "    </tr>\n",
       "    <tr>\n",
       "      <th>10</th>\n",
       "      <td>10</td>\n",
       "      <td>Maldives</td>\n",
       "      <td>99</td>\n",
       "      <td>98.0</td>\n",
       "      <td>42.0</td>\n",
       "    </tr>\n",
       "    <tr>\n",
       "      <th>11</th>\n",
       "      <td>11</td>\n",
       "      <td>Myanmar</td>\n",
       "      <td>76</td>\n",
       "      <td>88.0</td>\n",
       "      <td>4.0</td>\n",
       "    </tr>\n",
       "    <tr>\n",
       "      <th>12</th>\n",
       "      <td>12</td>\n",
       "      <td>Nepal</td>\n",
       "      <td>92</td>\n",
       "      <td>74.0</td>\n",
       "      <td>34.0</td>\n",
       "    </tr>\n",
       "    <tr>\n",
       "      <th>13</th>\n",
       "      <td>13</td>\n",
       "      <td>Pakistan</td>\n",
       "      <td>72</td>\n",
       "      <td>65.0</td>\n",
       "      <td>34.0</td>\n",
       "    </tr>\n",
       "    <tr>\n",
       "      <th>14</th>\n",
       "      <td>14</td>\n",
       "      <td>Philippines</td>\n",
       "      <td>84</td>\n",
       "      <td>74.0</td>\n",
       "      <td>65.0</td>\n",
       "    </tr>\n",
       "    <tr>\n",
       "      <th>15</th>\n",
       "      <td>15</td>\n",
       "      <td>Singapore</td>\n",
       "      <td>97</td>\n",
       "      <td>98.0</td>\n",
       "      <td>94.0</td>\n",
       "    </tr>\n",
       "    <tr>\n",
       "      <th>16</th>\n",
       "      <td>16</td>\n",
       "      <td>Sri Lanka</td>\n",
       "      <td>99</td>\n",
       "      <td>99.0</td>\n",
       "      <td>75.0</td>\n",
       "    </tr>\n",
       "    <tr>\n",
       "      <th>17</th>\n",
       "      <td>17</td>\n",
       "      <td>Thailand</td>\n",
       "      <td>99</td>\n",
       "      <td>97.0</td>\n",
       "      <td>66.0</td>\n",
       "    </tr>\n",
       "    <tr>\n",
       "      <th>18</th>\n",
       "      <td>18</td>\n",
       "      <td>Timor-Leste</td>\n",
       "      <td>76</td>\n",
       "      <td>NaN</td>\n",
       "      <td>NaN</td>\n",
       "    </tr>\n",
       "    <tr>\n",
       "      <th>19</th>\n",
       "      <td>19</td>\n",
       "      <td>Viet Nam</td>\n",
       "      <td>96</td>\n",
       "      <td>96.0</td>\n",
       "      <td>45.0</td>\n",
       "    </tr>\n",
       "  </tbody>\n",
       "</table>\n",
       "</div>"
      ],
      "text/plain": [
       "    index                           Country  \\\n",
       "0       0                       Afghanistan   \n",
       "1       1                        Bangladesh   \n",
       "2       2                            Bhutan   \n",
       "3       3                 Brunei Darussalam   \n",
       "4       4                          Cambodia   \n",
       "5       5                             China   \n",
       "6       6                             India   \n",
       "7       7                         Indonesia   \n",
       "8       8  Lao People's Democratic Republic   \n",
       "9       9                          Malaysia   \n",
       "10     10                          Maldives   \n",
       "11     11                           Myanmar   \n",
       "12     12                             Nepal   \n",
       "13     13                          Pakistan   \n",
       "14     14                       Philippines   \n",
       "15     15                         Singapore   \n",
       "16     16                         Sri Lanka   \n",
       "17     17                          Thailand   \n",
       "18     18                       Timor-Leste   \n",
       "19     19                          Viet Nam   \n",
       "\n",
       "    Polio Immunization of 1-year olds(%) in 2014  \\\n",
       "0                                             75   \n",
       "1                                             95   \n",
       "2                                             98   \n",
       "3                                             99   \n",
       "4                                             98   \n",
       "5                                             99   \n",
       "6                                             82   \n",
       "7                                             79   \n",
       "8                                             88   \n",
       "9                                             97   \n",
       "10                                            99   \n",
       "11                                            76   \n",
       "12                                            92   \n",
       "13                                            72   \n",
       "14                                            84   \n",
       "15                                            97   \n",
       "16                                            99   \n",
       "17                                            99   \n",
       "18                                            76   \n",
       "19                                            96   \n",
       "\n",
       "    Polio Immunization of 1-year olds(%) in 2000  \\\n",
       "0                                           24.0   \n",
       "1                                           83.0   \n",
       "2                                           98.0   \n",
       "3                                           99.0   \n",
       "4                                           62.0   \n",
       "5                                           86.0   \n",
       "6                                           57.0   \n",
       "7                                           72.0   \n",
       "8                                           57.0   \n",
       "9                                           98.0   \n",
       "10                                          98.0   \n",
       "11                                          88.0   \n",
       "12                                          74.0   \n",
       "13                                          65.0   \n",
       "14                                          74.0   \n",
       "15                                          98.0   \n",
       "16                                          99.0   \n",
       "17                                          97.0   \n",
       "18                                           NaN   \n",
       "19                                          96.0   \n",
       "\n",
       "    Polio Immunization of 1-year olds(%) in 1986  \n",
       "0                                           11.0  \n",
       "1                                            4.0  \n",
       "2                                           54.0  \n",
       "3                                           86.0  \n",
       "4                                           35.0  \n",
       "5                                           68.0  \n",
       "6                                           16.0  \n",
       "7                                           46.0  \n",
       "8                                            6.0  \n",
       "9                                           62.0  \n",
       "10                                          42.0  \n",
       "11                                           4.0  \n",
       "12                                          34.0  \n",
       "13                                          34.0  \n",
       "14                                          65.0  \n",
       "15                                          94.0  \n",
       "16                                          75.0  \n",
       "17                                          66.0  \n",
       "18                                           NaN  \n",
       "19                                          45.0  "
      ]
     },
     "execution_count": 41,
     "metadata": {},
     "output_type": "execute_result"
    }
   ],
   "source": [
    "#Scatter with new Index?\n",
    "newDataReset=newImmunData.reset_index()\n",
    "newDataReset"
   ]
  },
  {
   "cell_type": "code",
   "execution_count": 42,
   "metadata": {
    "collapsed": false
   },
   "outputs": [
    {
     "data": {
      "text/plain": [
       "[]"
      ]
     },
     "execution_count": 42,
     "metadata": {},
     "output_type": "execute_result"
    },
    {
     "data": {
      "image/png": "[encoded data removed]",
      "text/plain": [
       "<matplotlib.figure.Figure at 0x2dbb60f7b00>"
      ]
     },
     "metadata": {},
     "output_type": "display_data"
    }
   ],
   "source": [
    "ax = newDataReset.plot(kind ='scatter', x='index', y='Polio Immunization of 1-year olds(%) in 2014', color='Green', label='2014', s=75, figsize=(20,10));\n",
    " \n",
    "newDataReset.plot(kind ='scatter', x='index', y='Polio Immunization of 1-year olds(%) in 2000', color='Yellow', label='2000',ax=ax, s=75, figsize=(20,10));\n",
    "\n",
    "newSet = newDataReset.plot(kind ='scatter', x='index', y='Polio Immunization of 1-year olds(%) in 1986', color='Red', label='1986',ax=ax, s=75, figsize=(20,10))\n",
    "\n",
    "\n",
    "newSet.set_xlabel('Countries', fontsize=30)\n",
    "newSet.set_ylabel('Polio Immunization of 1-year olds (%)',fontsize=30)\n",
    "newSet.set_yticks([10,20,30,40,50,60,70,80,90,100])\n",
    "newSet.set_xticks([0,1,2,3,4,5,6,7,8,9,10,11,12,13,14,15,16,17,18,19])\n",
    "newSet.set_xticklabels(['Afghanistan  ','  Bangladesh','Bhutan','Brunei','Cambodia','China','India','Indonesia','Laos','Malaysia','Maldives','Myanmar','Nepal','Pakistan','Philippines','Singapore','Sri Lanka','Thailand','Timor-Leste','Vietnam'], rotation=90, fontsize=20)\n",
    "newSet.set_title('Polio Immunization of 1-year olds in South and Southeast Asia', fontsize=35 )\n",
    "newSet.legend(loc=2, fontsize= 15)\n",
    "newSet.plot(alpha=2)\n",
    " \n"
   ]
  },
  {
   "cell_type": "code",
   "execution_count": 43,
   "metadata": {
    "collapsed": false,
    "scrolled": true
   },
   "outputs": [
    {
     "data": {
      "text/plain": [
       "<matplotlib.axes._subplots.AxesSubplot at 0x2dbb58580f0>"
      ]
     },
     "execution_count": 43,
     "metadata": {},
     "output_type": "execute_result"
    },
    {
     "data": {
      "image/png": "[encoded data removed]",
      "text/plain": [
       "<matplotlib.figure.Figure at 0x2dbb583e8d0>"
      ]
     },
     "metadata": {},
     "output_type": "display_data"
    }
   ],
   "source": [
    "boxPlot = newImmunData[['Polio Immunization of 1-year olds(%) in 1986','Polio Immunization of 1-year olds(%) in 2000','Polio Immunization of 1-year olds(%) in 2014']].plot(grid=True, kind = 'box', figsize=(20,10))\n",
    "boxPlot.set_ylabel('Polio Immunization of 1-year olds (%)',fontsize=20)\n",
    "boxPlot.set_xlabel('Year', fontsize=20)\n",
    "boxPlot.set_yticks([10,20,30,40,50,60,70,80,90,100])\n",
    "boxPlot.set_title('Polio Immunization of 1-year olds in South and Southeast Asia', fontsize=25 )\n",
    "boxPlot"
   ]
  },
  {
   "cell_type": "markdown",
   "metadata": {},
   "source": [
    "### Conclusions\n",
    "\n",
    "Has the UN initiative as part of the Millenium Development Goals helped to increase coverage of Polio vaccination in children in South and South East Asia? Undoubtably yes. Polio vaccination coverage in South Asia increased 18% from 2000 to 2014. \n",
    "\n",
    "Interestingly, the push to eradicate Polio began in the 1980's with a WHO inititive to start eradicating the disease. Cheap vaccines also became more readily available in the developing world at that time. From 1986 to 2000, vaccination coverage in South Asia increased by an impressive 80%. In March 2014, South East Aisa was certified polio free by the WHO. \n",
    "\n",
    "While the Millenium Development program certainly made an impact on vaccination coverage, expanding coverage was already a massive trend and probaly would have continued to some degree with or without the MDGs. \n",
    "\n",
    "While Polio vaccination both before and during MDG program have been tremendously succesful, Polio continues to be endemic in some parts of the world, specifically in Afghanistan and Pakistan. \n",
    "\n"
   ]
  },
  {
   "cell_type": "markdown",
   "metadata": {},
   "source": [
    "### Sources\n",
    "\n",
    "http://www.who.int/mediacentre/factsheets/fs114/en/\n",
    "  \n",
    "http://www.polioeradication.org/Polioandprevention.aspx"
   ]
  },
  {
   "cell_type": "code",
   "execution_count": null,
   "metadata": {
    "collapsed": true
   },
   "outputs": [],
   "source": []
  }
 ],
 "metadata": {
  "kernelspec": {
   "display_name": "Python [Root]",
   "language": "python",
   "name": "Python [Root]"
  },
  "language_info": {
   "codemirror_mode": {
    "name": "ipython",
    "version": 3
   },
   "file_extension": ".py",
   "mimetype": "text/x-python",
   "name": "python",
   "nbconvert_exporter": "python",
   "pygments_lexer": "ipython3",
   "version": "3.5.2"
  }
 },
 "nbformat": 4,
 "nbformat_minor": 0
}
